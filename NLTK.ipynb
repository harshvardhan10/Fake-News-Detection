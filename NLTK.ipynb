{
 "cells": [
  {
   "cell_type": "markdown",
   "id": "dd2ebc8e",
   "metadata": {},
   "source": [
    "## NLP Pipeline\n",
    "\n",
    "1. Gather Data\n",
    "2. Tokeinse, Remove stopwords, Stemming\n",
    "3. Vectorize text data\n",
    "4. Build Vocabulary\n",
    "5. Classification"
   ]
  },
  {
   "cell_type": "code",
   "execution_count": 1,
   "id": "c2ba15cd",
   "metadata": {},
   "outputs": [
    {
     "name": "stdout",
     "output_type": "stream",
     "text": [
      "Collecting nltk\n",
      "  Downloading nltk-3.6.3-py3-none-any.whl (1.5 MB)\n",
      "Requirement already satisfied: joblib in c:\\users\\harshvardhan agarwal\\appdata\\local\\packages\\pythonsoftwarefoundation.python.3.9_qbz5n2kfra8p0\\localcache\\local-packages\\python39\\site-packages (from nltk) (1.0.1)\n",
      "Collecting regex\n",
      "  Downloading regex-2021.8.28-cp39-cp39-win_amd64.whl (271 kB)\n",
      "Collecting click\n",
      "  Downloading click-8.0.1-py3-none-any.whl (97 kB)\n",
      "Collecting tqdm\n",
      "  Downloading tqdm-4.62.3-py2.py3-none-any.whl (76 kB)\n",
      "Requirement already satisfied: colorama in c:\\users\\harshvardhan agarwal\\appdata\\local\\packages\\pythonsoftwarefoundation.python.3.9_qbz5n2kfra8p0\\localcache\\local-packages\\python39\\site-packages (from click->nltk) (0.4.4)\n",
      "Installing collected packages: tqdm, regex, click, nltk\n",
      "Successfully installed click-8.0.1 nltk-3.6.3 regex-2021.8.28 tqdm-4.62.3\n",
      "Note: you may need to restart the kernel to use updated packages.\n"
     ]
    }
   ],
   "source": [
    "pip install nltk"
   ]
  },
  {
   "cell_type": "code",
   "execution_count": 2,
   "id": "8ffa139d",
   "metadata": {},
   "outputs": [],
   "source": [
    "example = 'It was a very pleasant day. The weather was cool and there were light showers. I went to the market to buy some fruits.'\n"
   ]
  },
  {
   "cell_type": "code",
   "execution_count": 3,
   "id": "d8de44a1",
   "metadata": {},
   "outputs": [
    {
     "name": "stdout",
     "output_type": "stream",
     "text": [
      "It was a very pleasant day. The weather was cool and there were light showers. I went to the market to buy some fruits.\n"
     ]
    }
   ],
   "source": [
    "print(example)"
   ]
  },
  {
   "cell_type": "code",
   "execution_count": 7,
   "id": "4fae12dc",
   "metadata": {},
   "outputs": [
    {
     "name": "stderr",
     "output_type": "stream",
     "text": [
      "[nltk_data] Downloading package punkt to C:\\Users\\Harshvardhan\n",
      "[nltk_data]     Agarwal\\AppData\\Roaming\\nltk_data...\n",
      "[nltk_data]   Unzipping tokenizers\\punkt.zip.\n"
     ]
    },
    {
     "data": {
      "text/plain": [
       "True"
      ]
     },
     "execution_count": 7,
     "metadata": {},
     "output_type": "execute_result"
    }
   ],
   "source": [
    "from nltk.tokenize import word_tokenize\n",
    "import nltk\n",
    "nltk.download('punkt')"
   ]
  },
  {
   "cell_type": "code",
   "execution_count": 9,
   "id": "ceaf0d51",
   "metadata": {},
   "outputs": [],
   "source": [
    "words=word_tokenize(example)"
   ]
  },
  {
   "cell_type": "markdown",
   "id": "74774bda",
   "metadata": {},
   "source": [
    "## Stop-words Removal"
   ]
  },
  {
   "cell_type": "code",
   "execution_count": 12,
   "id": "374dd170",
   "metadata": {},
   "outputs": [
    {
     "name": "stderr",
     "output_type": "stream",
     "text": [
      "[nltk_data] Downloading package stopwords to C:\\Users\\Harshvardhan\n",
      "[nltk_data]     Agarwal\\AppData\\Roaming\\nltk_data...\n",
      "[nltk_data]   Unzipping corpora\\stopwords.zip.\n"
     ]
    },
    {
     "data": {
      "text/plain": [
       "True"
      ]
     },
     "execution_count": 12,
     "metadata": {},
     "output_type": "execute_result"
    }
   ],
   "source": [
    "nltk.download('stopwords')"
   ]
  },
  {
   "cell_type": "code",
   "execution_count": 13,
   "id": "72c7ea43",
   "metadata": {},
   "outputs": [
    {
     "name": "stderr",
     "output_type": "stream",
     "text": [
      "[nltk_data] Downloading package brown to C:\\Users\\Harshvardhan\n",
      "[nltk_data]     Agarwal\\AppData\\Roaming\\nltk_data...\n",
      "[nltk_data]   Unzipping corpora\\brown.zip.\n"
     ]
    },
    {
     "data": {
      "text/plain": [
       "True"
      ]
     },
     "execution_count": 13,
     "metadata": {},
     "output_type": "execute_result"
    }
   ],
   "source": [
    "nltk.download('brown')"
   ]
  },
  {
   "cell_type": "code",
   "execution_count": 14,
   "id": "1aa569ee",
   "metadata": {},
   "outputs": [],
   "source": [
    "from nltk.corpus import stopwords"
   ]
  },
  {
   "cell_type": "code",
   "execution_count": 18,
   "id": "e4c80c0c",
   "metadata": {},
   "outputs": [
    {
     "data": {
      "text/plain": [
       "179"
      ]
     },
     "execution_count": 18,
     "metadata": {},
     "output_type": "execute_result"
    }
   ],
   "source": [
    "len(set(stopwords.words('english')))"
   ]
  },
  {
   "cell_type": "code",
   "execution_count": 19,
   "id": "f267d0e5",
   "metadata": {},
   "outputs": [],
   "source": [
    "sw=stopwords.words('english')"
   ]
  },
  {
   "cell_type": "code",
   "execution_count": 21,
   "id": "68d874a5",
   "metadata": {},
   "outputs": [],
   "source": [
    "def remove_stopwords(text):\n",
    "    useful_words=[]\n",
    "    for word in text:\n",
    "        if word.lower() not in sw:\n",
    "            useful_words.append(word)\n",
    "    return useful_words\n",
    "            "
   ]
  },
  {
   "cell_type": "code",
   "execution_count": 22,
   "id": "a07b7d29",
   "metadata": {},
   "outputs": [
    {
     "data": {
      "text/plain": [
       "['pleasant',\n",
       " 'day',\n",
       " '.',\n",
       " 'weather',\n",
       " 'cool',\n",
       " 'light',\n",
       " 'showers',\n",
       " '.',\n",
       " 'went',\n",
       " 'market',\n",
       " 'buy',\n",
       " 'fruits',\n",
       " '.']"
      ]
     },
     "execution_count": 22,
     "metadata": {},
     "output_type": "execute_result"
    }
   ],
   "source": [
    "relevant_words=remove_stopwords(words)\n",
    "relevant_words"
   ]
  },
  {
   "cell_type": "markdown",
   "id": "6443214f",
   "metadata": {},
   "source": [
    "## Stemming"
   ]
  },
  {
   "cell_type": "code",
   "execution_count": 26,
   "id": "6287a6ef",
   "metadata": {},
   "outputs": [],
   "source": [
    "sample= 'Foxes love to make jumps. The quick brown fox was seen jumping over the lovely dog from a 6ft feet high wall'\n"
   ]
  },
  {
   "cell_type": "code",
   "execution_count": 24,
   "id": "e8e3fd69",
   "metadata": {},
   "outputs": [],
   "source": [
    "from nltk.stem import SnowballStemmer\n",
    "ss=SnowballStemmer('english')"
   ]
  },
  {
   "cell_type": "code",
   "execution_count": 28,
   "id": "bb43c9a0",
   "metadata": {},
   "outputs": [],
   "source": [
    "def stemming(text):\n",
    "    words=word_tokenize(text)\n",
    "    useful_words=[]\n",
    "    \n",
    "    for word in words:\n",
    "        useful_words.append(ss.stem(word))\n",
    "        \n",
    "    return useful_words"
   ]
  },
  {
   "cell_type": "code",
   "execution_count": 29,
   "id": "cac56c28",
   "metadata": {},
   "outputs": [
    {
     "data": {
      "text/plain": [
       "['fox',\n",
       " 'love',\n",
       " 'to',\n",
       " 'make',\n",
       " 'jump',\n",
       " '.',\n",
       " 'the',\n",
       " 'quick',\n",
       " 'brown',\n",
       " 'fox',\n",
       " 'was',\n",
       " 'seen',\n",
       " 'jump',\n",
       " 'over',\n",
       " 'the',\n",
       " 'love',\n",
       " 'dog',\n",
       " 'from',\n",
       " 'a',\n",
       " '6ft',\n",
       " 'feet',\n",
       " 'high',\n",
       " 'wall']"
      ]
     },
     "execution_count": 29,
     "metadata": {},
     "output_type": "execute_result"
    }
   ],
   "source": [
    "stemming(sample)"
   ]
  },
  {
   "cell_type": "markdown",
   "id": "13685b61",
   "metadata": {},
   "source": [
    "# Data Cleaning/Preprocessing"
   ]
  },
  {
   "cell_type": "code",
   "execution_count": 37,
   "id": "14ac32d7",
   "metadata": {},
   "outputs": [],
   "source": [
    "corpus = [\n",
    "        'Indian cricket team will wins World Cup, says Capt. Virat Kohli. World cup will be held at Sri Lanka.',\n",
    "        'We will win next Lok Sabha Elections, says confident Indian PM',\n",
    "        'The nobel laurate won the hearts of the people.',\n",
    "        'The movie Raazi is an exciting Indian Spy thriller based upon a real story.'\n",
    "]"
   ]
  },
  {
   "cell_type": "code",
   "execution_count": 46,
   "id": "cea6fcb1",
   "metadata": {},
   "outputs": [],
   "source": [
    "def data_cleaning(document):\n",
    "    document=document.lower()\n",
    "    \n",
    "    #tokenizing\n",
    "    words=word_tokenize(document)\n",
    "    \n",
    "    #stopwords removal and stemming\n",
    "    #using list comprehension\n",
    "    new_words=[ss.stem(word) for word in words if word not in sw and len(word)>1]\n",
    "    \n",
    "    #convert back to sentence\n",
    "    cleaned_sentence=\" \".join(new_words)\n",
    "    return cleaned_sentence    \n",
    "    "
   ]
  },
  {
   "cell_type": "code",
   "execution_count": 47,
   "id": "86123f82",
   "metadata": {},
   "outputs": [
    {
     "name": "stdout",
     "output_type": "stream",
     "text": [
      "indian cricket team win world cup say capt virat koh world cup held sri lanka\n"
     ]
    }
   ],
   "source": [
    "print(data_cleaning(corpus[0]))"
   ]
  },
  {
   "cell_type": "code",
   "execution_count": 48,
   "id": "cdfc16fe",
   "metadata": {},
   "outputs": [
    {
     "data": {
      "text/plain": [
       "['indian cricket team win world cup say capt virat koh world cup held sri lanka',\n",
       " 'win next lok sabha elect say confid indian pm',\n",
       " 'nobel laurat heart peopl',\n",
       " 'movi raazi excit indian spi thriller base upon real stori']"
      ]
     },
     "execution_count": 48,
     "metadata": {},
     "output_type": "execute_result"
    }
   ],
   "source": [
    "cleaned_data=[]\n",
    "\n",
    "for document in corpus:\n",
    "    cleaned_data.append(data_cleaning(document))\n",
    "cleaned_data"
   ]
  },
  {
   "cell_type": "markdown",
   "id": "0b924f98",
   "metadata": {},
   "source": [
    "# Building a Vocabulary and Vectorization of Documents"
   ]
  },
  {
   "cell_type": "code",
   "execution_count": 52,
   "id": "91a4b257",
   "metadata": {},
   "outputs": [],
   "source": [
    "#Bag of words\n",
    "from sklearn.feature_extraction.text import CountVectorizer\n",
    "cv=CountVectorizer()\n",
    "vectorized_corpus=cv.fit_transform(corpus).toarray()"
   ]
  },
  {
   "cell_type": "code",
   "execution_count": 54,
   "id": "2ee2e1db",
   "metadata": {},
   "outputs": [
    {
     "data": {
      "text/plain": [
       "array([[0, 1, 0, 1, 1, 0, 1, 2, 0, 0, 0, 1, 1, 0, 1, 1, 0, 0, 0, 0, 0, 0,\n",
       "        0, 0, 0, 0, 0, 1, 0, 1, 0, 1, 0, 0, 0, 1, 0, 2, 0, 1, 0, 2],\n",
       "       [0, 0, 0, 0, 0, 1, 0, 0, 1, 0, 0, 0, 1, 0, 0, 0, 0, 1, 0, 1, 0, 0,\n",
       "        0, 1, 0, 0, 1, 1, 0, 0, 0, 0, 0, 0, 0, 0, 1, 1, 1, 0, 0, 0],\n",
       "       [0, 0, 0, 0, 0, 0, 0, 0, 0, 0, 1, 0, 0, 0, 0, 0, 1, 0, 0, 0, 1, 1,\n",
       "        1, 0, 0, 0, 0, 0, 0, 0, 0, 0, 3, 0, 0, 0, 0, 0, 0, 0, 1, 0],\n",
       "       [1, 0, 1, 0, 0, 0, 0, 0, 0, 1, 0, 0, 1, 1, 0, 0, 0, 0, 1, 0, 0, 0,\n",
       "        0, 0, 1, 1, 0, 0, 1, 0, 1, 0, 1, 1, 1, 0, 0, 0, 0, 0, 0, 0]],\n",
       "      dtype=int64)"
      ]
     },
     "execution_count": 54,
     "metadata": {},
     "output_type": "execute_result"
    }
   ],
   "source": [
    "vectorized_corpus"
   ]
  },
  {
   "cell_type": "code",
   "execution_count": 57,
   "id": "3aabc06c",
   "metadata": {},
   "outputs": [
    {
     "data": {
      "text/plain": [
       "['an',\n",
       " 'at',\n",
       " 'based',\n",
       " 'be',\n",
       " 'capt',\n",
       " 'confident',\n",
       " 'cricket',\n",
       " 'cup',\n",
       " 'elections',\n",
       " 'exciting',\n",
       " 'hearts',\n",
       " 'held',\n",
       " 'indian',\n",
       " 'is',\n",
       " 'kohli',\n",
       " 'lanka',\n",
       " 'laurate',\n",
       " 'lok',\n",
       " 'movie',\n",
       " 'next',\n",
       " 'nobel',\n",
       " 'of',\n",
       " 'people',\n",
       " 'pm',\n",
       " 'raazi',\n",
       " 'real',\n",
       " 'sabha',\n",
       " 'says',\n",
       " 'spy',\n",
       " 'sri',\n",
       " 'story',\n",
       " 'team',\n",
       " 'the',\n",
       " 'thriller',\n",
       " 'upon',\n",
       " 'virat',\n",
       " 'we',\n",
       " 'will',\n",
       " 'win',\n",
       " 'wins',\n",
       " 'won',\n",
       " 'world']"
      ]
     },
     "execution_count": 57,
     "metadata": {},
     "output_type": "execute_result"
    }
   ],
   "source": [
    "cv.get_feature_names()"
   ]
  },
  {
   "cell_type": "code",
   "execution_count": 58,
   "id": "da044b11",
   "metadata": {},
   "outputs": [
    {
     "data": {
      "text/html": [
       "<div>\n",
       "<style scoped>\n",
       "    .dataframe tbody tr th:only-of-type {\n",
       "        vertical-align: middle;\n",
       "    }\n",
       "\n",
       "    .dataframe tbody tr th {\n",
       "        vertical-align: top;\n",
       "    }\n",
       "\n",
       "    .dataframe thead th {\n",
       "        text-align: right;\n",
       "    }\n",
       "</style>\n",
       "<table border=\"1\" class=\"dataframe\">\n",
       "  <thead>\n",
       "    <tr style=\"text-align: right;\">\n",
       "      <th></th>\n",
       "      <th>an</th>\n",
       "      <th>at</th>\n",
       "      <th>based</th>\n",
       "      <th>be</th>\n",
       "      <th>capt</th>\n",
       "      <th>confident</th>\n",
       "      <th>cricket</th>\n",
       "      <th>cup</th>\n",
       "      <th>elections</th>\n",
       "      <th>exciting</th>\n",
       "      <th>...</th>\n",
       "      <th>the</th>\n",
       "      <th>thriller</th>\n",
       "      <th>upon</th>\n",
       "      <th>virat</th>\n",
       "      <th>we</th>\n",
       "      <th>will</th>\n",
       "      <th>win</th>\n",
       "      <th>wins</th>\n",
       "      <th>won</th>\n",
       "      <th>world</th>\n",
       "    </tr>\n",
       "  </thead>\n",
       "  <tbody>\n",
       "    <tr>\n",
       "      <th>0</th>\n",
       "      <td>0</td>\n",
       "      <td>1</td>\n",
       "      <td>0</td>\n",
       "      <td>1</td>\n",
       "      <td>1</td>\n",
       "      <td>0</td>\n",
       "      <td>1</td>\n",
       "      <td>2</td>\n",
       "      <td>0</td>\n",
       "      <td>0</td>\n",
       "      <td>...</td>\n",
       "      <td>0</td>\n",
       "      <td>0</td>\n",
       "      <td>0</td>\n",
       "      <td>1</td>\n",
       "      <td>0</td>\n",
       "      <td>2</td>\n",
       "      <td>0</td>\n",
       "      <td>1</td>\n",
       "      <td>0</td>\n",
       "      <td>2</td>\n",
       "    </tr>\n",
       "    <tr>\n",
       "      <th>1</th>\n",
       "      <td>0</td>\n",
       "      <td>0</td>\n",
       "      <td>0</td>\n",
       "      <td>0</td>\n",
       "      <td>0</td>\n",
       "      <td>1</td>\n",
       "      <td>0</td>\n",
       "      <td>0</td>\n",
       "      <td>1</td>\n",
       "      <td>0</td>\n",
       "      <td>...</td>\n",
       "      <td>0</td>\n",
       "      <td>0</td>\n",
       "      <td>0</td>\n",
       "      <td>0</td>\n",
       "      <td>1</td>\n",
       "      <td>1</td>\n",
       "      <td>1</td>\n",
       "      <td>0</td>\n",
       "      <td>0</td>\n",
       "      <td>0</td>\n",
       "    </tr>\n",
       "    <tr>\n",
       "      <th>2</th>\n",
       "      <td>0</td>\n",
       "      <td>0</td>\n",
       "      <td>0</td>\n",
       "      <td>0</td>\n",
       "      <td>0</td>\n",
       "      <td>0</td>\n",
       "      <td>0</td>\n",
       "      <td>0</td>\n",
       "      <td>0</td>\n",
       "      <td>0</td>\n",
       "      <td>...</td>\n",
       "      <td>3</td>\n",
       "      <td>0</td>\n",
       "      <td>0</td>\n",
       "      <td>0</td>\n",
       "      <td>0</td>\n",
       "      <td>0</td>\n",
       "      <td>0</td>\n",
       "      <td>0</td>\n",
       "      <td>1</td>\n",
       "      <td>0</td>\n",
       "    </tr>\n",
       "    <tr>\n",
       "      <th>3</th>\n",
       "      <td>1</td>\n",
       "      <td>0</td>\n",
       "      <td>1</td>\n",
       "      <td>0</td>\n",
       "      <td>0</td>\n",
       "      <td>0</td>\n",
       "      <td>0</td>\n",
       "      <td>0</td>\n",
       "      <td>0</td>\n",
       "      <td>1</td>\n",
       "      <td>...</td>\n",
       "      <td>1</td>\n",
       "      <td>1</td>\n",
       "      <td>1</td>\n",
       "      <td>0</td>\n",
       "      <td>0</td>\n",
       "      <td>0</td>\n",
       "      <td>0</td>\n",
       "      <td>0</td>\n",
       "      <td>0</td>\n",
       "      <td>0</td>\n",
       "    </tr>\n",
       "  </tbody>\n",
       "</table>\n",
       "<p>4 rows × 42 columns</p>\n",
       "</div>"
      ],
      "text/plain": [
       "   an  at  based  be  capt  confident  cricket  cup  elections  exciting  ...  \\\n",
       "0   0   1      0   1     1          0        1    2          0         0  ...   \n",
       "1   0   0      0   0     0          1        0    0          1         0  ...   \n",
       "2   0   0      0   0     0          0        0    0          0         0  ...   \n",
       "3   1   0      1   0     0          0        0    0          0         1  ...   \n",
       "\n",
       "   the  thriller  upon  virat  we  will  win  wins  won  world  \n",
       "0    0         0     0      1   0     2    0     1    0      2  \n",
       "1    0         0     0      0   1     1    1     0    0      0  \n",
       "2    3         0     0      0   0     0    0     0    1      0  \n",
       "3    1         1     1      0   0     0    0     0    0      0  \n",
       "\n",
       "[4 rows x 42 columns]"
      ]
     },
     "execution_count": 58,
     "metadata": {},
     "output_type": "execute_result"
    }
   ],
   "source": [
    "import pandas as pd\n",
    "pd.DataFrame(vectorized_corpus,columns=cv.get_feature_names())"
   ]
  },
  {
   "cell_type": "code",
   "execution_count": 60,
   "id": "e2cb185e",
   "metadata": {},
   "outputs": [
    {
     "data": {
      "text/plain": [
       "array([[1, 0, 1, 1, 0, 0, 0, 0, 0, 1, 0, 0, 0, 0, 0, 0, 0, 0, 0, 0, 0, 0,\n",
       "        0, 0, 0, 0, 0, 0, 0, 0, 0, 0, 1, 0, 0, 0, 0, 0, 0, 0, 0, 0]],\n",
       "      dtype=int64)"
      ]
     },
     "execution_count": 60,
     "metadata": {},
     "output_type": "execute_result"
    }
   ],
   "source": [
    "test=\"based on the fixture it should be an exciting match\"\n",
    "cv.transform([test]).toarray()"
   ]
  },
  {
   "cell_type": "code",
   "execution_count": null,
   "id": "a9a35edb",
   "metadata": {},
   "outputs": [],
   "source": []
  }
 ],
 "metadata": {
  "kernelspec": {
   "display_name": "Python 3 (ipykernel)",
   "language": "python",
   "name": "python3"
  },
  "language_info": {
   "codemirror_mode": {
    "name": "ipython",
    "version": 3
   },
   "file_extension": ".py",
   "mimetype": "text/x-python",
   "name": "python",
   "nbconvert_exporter": "python",
   "pygments_lexer": "ipython3",
   "version": "3.9.7"
  }
 },
 "nbformat": 4,
 "nbformat_minor": 5
}
